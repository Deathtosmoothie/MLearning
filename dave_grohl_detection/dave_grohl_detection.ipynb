{
 "cells": [
  {
   "cell_type": "markdown",
   "metadata": {
    "colab_type": "text",
    "id": "VIoMH94rCVkq"
   },
   "source": [
    "# **Object Detection with Deep Neural Network**"
   ]
  },
  {
   "cell_type": "markdown",
   "metadata": {
    "colab_type": "text",
    "id": "lREFqxR8C0EB"
   },
   "source": [
    "**Prepare environment**"
   ]
  },
  {
   "cell_type": "code",
   "execution_count": null,
   "metadata": {
    "colab": {
     "base_uri": "https://localhost:8080/",
     "height": 3565.0
    },
    "colab_type": "code",
    "executionInfo": {
     "elapsed": 39572.0,
     "status": "ok",
     "timestamp": 1.541743936232E12,
     "user": {
      "displayName": "Руслан Салахутдинов",
      "photoUrl": "",
      "userId": "17755948934109530935"
     },
     "user_tz": -360.0
    },
    "id": "RTqotMUyjrHm",
    "outputId": "0ff25348-dbf8-410c-a1c4-bc1b6a767561"
   },
   "outputs": [],
   "source": [
    "#install requirenments\n",
    "!apt-get install protobuf-compiler python-pil python-lxml python-tk\n",
    "!pip install Cython\n",
    "!pip install jupyter\n",
    "!pip install matplotlib\n",
    "!pip install 'prompt-toolkit==1.0.15'"
   ]
  },
  {
   "cell_type": "code",
   "execution_count": null,
   "metadata": {
    "colab": {
     "base_uri": "https://localhost:8080/",
     "height": 125.0
    },
    "colab_type": "code",
    "executionInfo": {
     "elapsed": 27895.0,
     "status": "ok",
     "timestamp": 1.541743964229E12,
     "user": {
      "displayName": "Руслан Салахутдинов",
      "photoUrl": "",
      "userId": "17755948934109530935"
     },
     "user_tz": -360.0
    },
    "id": "PkizjNNVagpP",
    "outputId": "b9bb4da9-fcdb-45bc-f9c4-f773c1693b0f"
   },
   "outputs": [],
   "source": [
    "#clone tensorflow models to local machine\n",
    "!git clone https://github.com/tensorflow/models.git"
   ]
  },
  {
   "cell_type": "code",
   "execution_count": null,
   "metadata": {
    "colab": {
     "base_uri": "https://localhost:8080/",
     "height": 53.0
    },
    "colab_type": "code",
    "executionInfo": {
     "elapsed": 3272.0,
     "status": "ok",
     "timestamp": 1.541743967582E12,
     "user": {
      "displayName": "Руслан Салахутдинов",
      "photoUrl": "",
      "userId": "17755948934109530935"
     },
     "user_tz": -360.0
    },
    "id": "Fm05XjLEbD2G",
    "outputId": "07dd38bb-7a10-4057-d776-71bfdef3c88a"
   },
   "outputs": [],
   "source": [
    "#set environment\n",
    "%cd /content/models/research\n",
    "%set_env PYTHONPATH=/content/models/research:/content/models/research/slim"
   ]
  },
  {
   "cell_type": "code",
   "execution_count": null,
   "metadata": {
    "colab": {},
    "colab_type": "code",
    "id": "aQYJHOHfbVrR"
   },
   "outputs": [],
   "source": [
    "!protoc object_detection/protos/*.proto --python_out=."
   ]
  },
  {
   "cell_type": "code",
   "execution_count": null,
   "metadata": {
    "colab": {
     "base_uri": "https://localhost:8080/",
     "height": 35.0
    },
    "colab_type": "code",
    "executionInfo": {
     "elapsed": 783.0,
     "status": "ok",
     "timestamp": 1.541743971217E12,
     "user": {
      "displayName": "Руслан Салахутдинов",
      "photoUrl": "",
      "userId": "17755948934109530935"
     },
     "user_tz": -360.0
    },
    "id": "pBBsotMGVzwx",
    "outputId": "990a947e-1bf2-4fe7-c22c-4ef63166fa04"
   },
   "outputs": [],
   "source": [
    "%cd /content/models/research"
   ]
  },
  {
   "cell_type": "code",
   "execution_count": null,
   "metadata": {
    "colab": {
     "base_uri": "https://localhost:8080/",
     "height": 107.0
    },
    "colab_type": "code",
    "executionInfo": {
     "elapsed": 10082.0,
     "status": "ok",
     "timestamp": 1.541743981675E12,
     "user": {
      "displayName": "Руслан Салахутдинов",
      "photoUrl": "",
      "userId": "17755948934109530935"
     },
     "user_tz": -360.0
    },
    "id": "Jnv-QE1-bf0W",
    "outputId": "5f0b3c65-4795-4b3b-b80d-9995f9403651"
   },
   "outputs": [],
   "source": [
    "!python object_detection/builders/model_builder_test.py"
   ]
  },
  {
   "cell_type": "markdown",
   "metadata": {
    "colab_type": "text",
    "id": "_w7KUEJKP1kG"
   },
   "source": [
    "**Mount GoogleDrive**"
   ]
  },
  {
   "cell_type": "code",
   "execution_count": null,
   "metadata": {
    "colab": {
     "base_uri": "https://localhost:8080/",
     "height": 127.0
    },
    "colab_type": "code",
    "executionInfo": {
     "elapsed": 29367.0,
     "status": "ok",
     "timestamp": 1.541744011139E12,
     "user": {
      "displayName": "Руслан Салахутдинов",
      "photoUrl": "",
      "userId": "17755948934109530935"
     },
     "user_tz": -360.0
    },
    "id": "62WJDIVFpNZL",
    "outputId": "99f5aa98-afbc-41f3-cf9e-1f58e6e02a07"
   },
   "outputs": [],
   "source": [
    "from google.colab import drive\n",
    "drive.mount('/content/gdrive_')"
   ]
  },
  {
   "cell_type": "code",
   "execution_count": null,
   "metadata": {
    "colab": {
     "base_uri": "https://localhost:8080/",
     "height": 449.0
    },
    "colab_type": "code",
    "executionInfo": {
     "elapsed": 3275.0,
     "status": "ok",
     "timestamp": 1.541744017087E12,
     "user": {
      "displayName": "Руслан Салахутдинов",
      "photoUrl": "",
      "userId": "17755948934109530935"
     },
     "user_tz": -360.0
    },
    "id": "d8qcDCQ_pS-P",
    "outputId": "c37af9e6-f19e-4dea-abbc-58bec616a0dc"
   },
   "outputs": [],
   "source": [
    "#check mounted gdrive\n",
    "%cd /content/gdrive_/My Drive/dave_grohl_detection\n",
    "!ls"
   ]
  },
  {
   "cell_type": "markdown",
   "metadata": {
    "colab_type": "text",
    "id": "6it7sZmR_ZfA"
   },
   "source": [
    "**Installing pycocotools**"
   ]
  },
  {
   "cell_type": "code",
   "execution_count": null,
   "metadata": {
    "colab": {},
    "colab_type": "code",
    "id": "bh1m0JLo9lAC"
   },
   "outputs": [],
   "source": [
    "%cd /content/gdrive_/My Drive/dave_grohl_detection/object_detection/metrics\n",
    "!ls"
   ]
  },
  {
   "cell_type": "code",
   "execution_count": null,
   "metadata": {
    "colab": {},
    "colab_type": "code",
    "id": "VkvuwcPf9f6w"
   },
   "outputs": [],
   "source": [
    "!git clone https://github.com/cocodataset/cocoapi\n"
   ]
  },
  {
   "cell_type": "code",
   "execution_count": null,
   "metadata": {
    "colab": {
     "base_uri": "https://localhost:8080/",
     "height": 143.0
    },
    "colab_type": "code",
    "executionInfo": {
     "elapsed": 2553.0,
     "status": "ok",
     "timestamp": 1.541651840115E12,
     "user": {
      "displayName": "Руслан Салахутдинов",
      "photoUrl": "",
      "userId": "17755948934109530935"
     },
     "user_tz": -360.0
    },
    "id": "S7j8gaZJ-IVG",
    "outputId": "759e98c5-cc83-4c05-9c92-9090400c545d"
   },
   "outputs": [],
   "source": [
    "%cd /content/gdrive_/My Drive/dave_grohl_detection/object_detection/metrics/cocoapi/PythonAPI\n",
    "!ls"
   ]
  },
  {
   "cell_type": "code",
   "execution_count": null,
   "metadata": {
    "colab": {
     "base_uri": "https://localhost:8080/",
     "height": 2827.0
    },
    "colab_type": "code",
    "executionInfo": {
     "elapsed": 13308.0,
     "status": "ok",
     "timestamp": 1.541651854283E12,
     "user": {
      "displayName": "Руслан Салахутдинов",
      "photoUrl": "",
      "userId": "17755948934109530935"
     },
     "user_tz": -360.0
    },
    "id": "Ogo52eHbrAIa",
    "outputId": "c0531765-dc46-4a14-da14-4262ceb720a8"
   },
   "outputs": [],
   "source": [
    "!python3 setup.py install"
   ]
  },
  {
   "cell_type": "code",
   "execution_count": null,
   "metadata": {
    "colab": {
     "base_uri": "https://localhost:8080/",
     "height": 71.0
    },
    "colab_type": "code",
    "executionInfo": {
     "elapsed": 3070.0,
     "status": "ok",
     "timestamp": 1.541651857404E12,
     "user": {
      "displayName": "Руслан Салахутдинов",
      "photoUrl": "",
      "userId": "17755948934109530935"
     },
     "user_tz": -360.0
    },
    "id": "C8n5VXTN-XZ1",
    "outputId": "1cb978bb-d3a3-47cb-8024-e85e654928cd"
   },
   "outputs": [],
   "source": [
    "!python setup.py build_ext --inplace"
   ]
  },
  {
   "cell_type": "code",
   "execution_count": null,
   "metadata": {
    "colab": {},
    "colab_type": "code",
    "id": "-fbBnYuZAAcM"
   },
   "outputs": [],
   "source": [
    "rm -rf build"
   ]
  },
  {
   "cell_type": "markdown",
   "metadata": {
    "colab_type": "text",
    "id": "Emt3kdh2mp_7"
   },
   "source": [
    "**Launch Tensorboard**"
   ]
  },
  {
   "cell_type": "code",
   "execution_count": null,
   "metadata": {
    "colab": {},
    "colab_type": "code",
    "id": "qwMGtvdt_z4P"
   },
   "outputs": [],
   "source": [
    "%cd /content/gdrive_/My Drive/dave_grohl_detection\n",
    "!ls"
   ]
  },
  {
   "cell_type": "code",
   "execution_count": null,
   "metadata": {
    "colab": {},
    "colab_type": "code",
    "id": "juc-59LJmvpQ"
   },
   "outputs": [],
   "source": [
    "LOG_DIR = 'models/model/train'\n",
    "get_ipython().system_raw(\n",
    "    'tensorboard --logdir {} --host 0.0.0.0 --port 6006 &'\n",
    "    .format(LOG_DIR)\n",
    ")"
   ]
  },
  {
   "cell_type": "code",
   "execution_count": null,
   "metadata": {
    "colab": {
     "base_uri": "https://localhost:8080/",
     "height": 269.0
    },
    "colab_type": "code",
    "executionInfo": {
     "elapsed": 7502.0,
     "status": "ok",
     "timestamp": 1.541651925054E12,
     "user": {
      "displayName": "Руслан Салахутдинов",
      "photoUrl": "",
      "userId": "17755948934109530935"
     },
     "user_tz": -360.0
    },
    "id": "qucCwhthmv6v",
    "outputId": "a7fc782a-964c-45ee-d9a5-c9e24beea625"
   },
   "outputs": [],
   "source": [
    "! wget https://bin.equinox.io/c/4VmDzA7iaHb/ngrok-stable-linux-amd64.zip\n",
    "! unzip ngrok-stable-linux-amd64.zip"
   ]
  },
  {
   "cell_type": "code",
   "execution_count": null,
   "metadata": {
    "colab": {},
    "colab_type": "code",
    "id": "RHdxbiAFmwFa"
   },
   "outputs": [],
   "source": [
    "get_ipython().system_raw('./ngrok http 6006 &')"
   ]
  },
  {
   "cell_type": "code",
   "execution_count": null,
   "metadata": {
    "colab": {
     "base_uri": "https://localhost:8080/",
     "height": 89.0
    },
    "colab_type": "code",
    "executionInfo": {
     "elapsed": 2484.0,
     "status": "ok",
     "timestamp": 1.541651932866E12,
     "user": {
      "displayName": "Руслан Салахутдинов",
      "photoUrl": "",
      "userId": "17755948934109530935"
     },
     "user_tz": -360.0
    },
    "id": "dNwBl3XGmwQT",
    "outputId": "c7ded59b-b835-49c6-9510-0bb54a4fea18"
   },
   "outputs": [],
   "source": [
    "! curl http://localhost:4040/api/tunnels | python3 -c \\\n",
    "    \"import sys, json; print(json.load(sys.stdin)['tunnels'][0]['public_url'])\""
   ]
  },
  {
   "cell_type": "markdown",
   "metadata": {
    "colab_type": "text",
    "id": "YvXwCWa1m4Z3"
   },
   "source": [
    "**Train Model**"
   ]
  },
  {
   "cell_type": "code",
   "execution_count": null,
   "metadata": {
    "colab": {
     "base_uri": "https://localhost:8080/",
     "height": 2143.0
    },
    "colab_type": "code",
    "executionInfo": {
     "elapsed": 56610.0,
     "status": "ok",
     "timestamp": 1.541678745747E12,
     "user": {
      "displayName": "Руслан Салахутдинов",
      "photoUrl": "",
      "userId": "17755948934109530935"
     },
     "user_tz": -360.0
    },
    "id": "yE-AqhKhn8MC",
    "outputId": "a893b213-362a-4a43-f935-3f478cfc7c04"
   },
   "outputs": [],
   "source": [
    "!python3 model_main.py \\\n",
    "    --pipeline_config_path=models/model/pipeline.config \\\n",
    "    --model_dir=models/model/train \\\n",
    "    --num_train_steps=50000 \\\n",
    "    --num_eval_steps=50000 \\\n",
    "    --alsologtostderr"
   ]
  },
  {
   "cell_type": "markdown",
   "metadata": {
    "colab_type": "text",
    "id": "qBGl3kgO9xgc"
   },
   "source": [
    "**Exporting the model for inference**"
   ]
  },
  {
   "cell_type": "code",
   "execution_count": null,
   "metadata": {
    "colab": {
     "base_uri": "https://localhost:8080/",
     "height": 27703.0
    },
    "colab_type": "code",
    "executionInfo": {
     "elapsed": 66291.0,
     "status": "ok",
     "timestamp": 1.541744150136E12,
     "user": {
      "displayName": "Руслан Салахутдинов",
      "photoUrl": "",
      "userId": "17755948934109530935"
     },
     "user_tz": -360.0
    },
    "id": "eXbatSPAfS9H",
    "outputId": "fb3baa12-c9c7-42b7-c5d7-58b9de639e8c"
   },
   "outputs": [],
   "source": [
    "#creating frozen graph\n",
    "!python object_detection/export_inference_graph.py \\\n",
    "--input_type=image_tensor \\\n",
    "--pipeline_config_path=models/model/pipeline.config \\\n",
    "--trained_checkpoint_prefix=models/model/train/your_checkpoint\n",
    "--output_directory=output"
   ]
  },
  {
   "cell_type": "code",
   "execution_count": null,
   "metadata": {
    "colab": {
     "base_uri": "https://localhost:8080/",
     "height": 505.0
    },
    "colab_type": "code",
    "executionInfo": {
     "elapsed": 35767.0,
     "status": "ok",
     "timestamp": 1.541400552227E12,
     "user": {
      "displayName": "Руслан Салахутдинов",
      "photoUrl": "",
      "userId": "17755948934109530935"
     },
     "user_tz": -360.0
    },
    "id": "eq-XN8-rbWAN",
    "outputId": "7c27ce9c-0de1-4663-d6ba-239e9e58e62f"
   },
   "outputs": [],
   "source": [
    "#running object detection\n",
    "!python object_detection/inference.py \\\n",
    "--input_dir=test_images \\\n",
    "--output_dir=output \\\n",
    "--label_map=data/label_map.pbtxt \\\n",
    "--frozen_graph=output/frozen_inference_graph.pb \\\n",
    "--num_output_classes=1"
   ]
  },
  {
   "cell_type": "code",
   "execution_count": null,
   "metadata": {
    "colab": {},
    "colab_type": "code",
    "id": "xiOqNb5yvvDr"
   },
   "outputs": [],
   "source": []
  }
 ],
 "metadata": {
  "accelerator": "GPU",
  "colab": {
   "collapsed_sections": [],
   "name": "dave_grohl_detection.ipynb",
   "provenance": [],
   "version": "0.3.2"
  },
  "kernelspec": {
   "display_name": "Python 3",
   "language": "python",
   "name": "python3"
  },
  "language_info": {
   "codemirror_mode": {
    "name": "ipython",
    "version": 3
   },
   "file_extension": ".py",
   "mimetype": "text/x-python",
   "name": "python",
   "nbconvert_exporter": "python",
   "pygments_lexer": "ipython3",
   "version": "3.6.6"
  }
 },
 "nbformat": 4,
 "nbformat_minor": 1
}
